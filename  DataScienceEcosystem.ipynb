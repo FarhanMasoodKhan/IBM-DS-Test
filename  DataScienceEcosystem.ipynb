{
 "cells": [
  {
   "cell_type": "markdown",
   "id": "e4b93c07",
   "metadata": {},
   "source": [
    "# Data Science Tools and Ecosystem"
   ]
  },
  {
   "cell_type": "markdown",
   "id": "51aefab9",
   "metadata": {},
   "source": [
    "In this notebook, Data Science Tools and Ecosystem are summarized."
   ]
  },
  {
   "cell_type": "markdown",
   "id": "f4e73e94",
   "metadata": {},
   "source": [
    "# "
   ]
  },
  {
   "cell_type": "markdown",
   "id": "e6137b16",
   "metadata": {},
   "source": [
    "Some of the popular languages that Data Scientists use are:"
   ]
  },
  {
   "cell_type": "markdown",
   "id": "ba442193",
   "metadata": {},
   "source": [
    "1. Python\n",
    "2. R \n",
    "3. SQL\n",
    "4. Javascript\n"
   ]
  },
  {
   "cell_type": "markdown",
   "id": "01575ffd",
   "metadata": {},
   "source": [
    "# "
   ]
  },
  {
   "cell_type": "markdown",
   "id": "e8c18173",
   "metadata": {},
   "source": [
    "# Exercise 5 - Create a markdown cell to list data science libraries"
   ]
  },
  {
   "cell_type": "code",
   "execution_count": null,
   "id": "1c359631",
   "metadata": {},
   "outputs": [],
   "source": [
    "Some of the commonly used libraries used by Data Scientists include:"
   ]
  },
  {
   "cell_type": "markdown",
   "id": "5393ea23",
   "metadata": {},
   "source": [
    "1. TensorFlow\n",
    "2. NumPy\n",
    "3. SciPy \n",
    "4. Pandas\n",
    "5. Matplotlib \n",
    "6. Keras\n",
    "7. SciKit-Learn\n",
    "8. PyTorch"
   ]
  },
  {
   "cell_type": "markdown",
   "id": "a790c565",
   "metadata": {},
   "source": [
    "# "
   ]
  },
  {
   "cell_type": "markdown",
   "id": "5740bd43",
   "metadata": {},
   "source": [
    "# Exercise 6 - Create a markdown cell with a table of Data Science tools"
   ]
  },
  {
   "cell_type": "markdown",
   "id": "0e68b04a",
   "metadata": {},
   "source": [
    "1. Python\n",
    "2. R\n",
    "3. SQL\n",
    "4. Tableau\n",
    "5. Power BI\n",
    "6. MATLAB\n",
    "7. SAS\n",
    "8. Apache Spark\n",
    "9. Hadoop\n",
    "10. IBM Watson\n",
    "11. Excel\n",
    "12. Jupyter Notebook"
   ]
  },
  {
   "cell_type": "markdown",
   "id": "28d7c353",
   "metadata": {},
   "source": [
    "# "
   ]
  },
  {
   "cell_type": "markdown",
   "id": "1640d6cc",
   "metadata": {},
   "source": [
    "# Exercise 7 - Create a markdown cell introducing arithmetic expression examples"
   ]
  },
  {
   "cell_type": "markdown",
   "id": "d607f4a7",
   "metadata": {},
   "source": [
    "Arithmetic Expressions are:\n",
    "\n",
    "Addition: 5 + 3 = 8          # + is used to add 5 and 3 together, resulting in 8.\n",
    "\n",
    "Subtraction: 10 - 4 = 6      # - is used to subtract 4 from 10, resulting in 6.\n",
    "\n",
    "Multiplication: 2 * 6 = 12   # * is used to multiply 2 and 6 together, resulting in 12.\n",
    "\n",
    "Division: 15 / 3 = 5         # / is used to divide 15 by 3, resulting in 5.\n",
    "\n",
    "Exponentiation: 2 ^ 3 = 8    # ^ is used to raise 2 to the power of 3, resulting in 8.\n",
    "\n",
    "Modulus: 15 % 4 = 3          # % is used to find the remainder when 15 is divided by 4, resulting in 3.\n",
    "    "
   ]
  },
  {
   "cell_type": "markdown",
   "id": "e7051472",
   "metadata": {},
   "source": [
    "# "
   ]
  },
  {
   "cell_type": "markdown",
   "id": "887cbf09",
   "metadata": {},
   "source": [
    "# Exercise 8 - Create a code cell to multiply and add numbers"
   ]
  },
  {
   "cell_type": "markdown",
   "id": "0896d337",
   "metadata": {},
   "source": [
    "Multiply and add numbers\n",
    "\n",
    "a = 2\n",
    "b = 3\n",
    "c = 5\n",
    "\n",
    "result = a + b * c\n",
    "\n",
    "print(\"The result is\", result)  # 17 is answer\n"
   ]
  },
  {
   "cell_type": "markdown",
   "id": "74ff849a",
   "metadata": {},
   "source": [
    "# "
   ]
  },
  {
   "cell_type": "markdown",
   "id": "b2ea5534",
   "metadata": {},
   "source": [
    "# Exercise 9 - Create a code cell to convert minutes to hours"
   ]
  },
  {
   "cell_type": "code",
   "execution_count": 2,
   "id": "a7d9a436",
   "metadata": {},
   "outputs": [
    {
     "name": "stdout",
     "output_type": "stream",
     "text": [
      "There are 2.0 hours in 120 minutes.\n"
     ]
    }
   ],
   "source": [
    "minutes = 120\n",
    "\n",
    "# Convert minutes to hours\n",
    "hours = minutes / 60\n",
    "\n",
    "# Output the result\n",
    "print(\"There are\", hours, \"hours in\", minutes, \"minutes.\")"
   ]
  },
  {
   "cell_type": "markdown",
   "id": "f7c6caa2",
   "metadata": {},
   "source": [
    "# "
   ]
  },
  {
   "cell_type": "markdown",
   "id": "afb58e99",
   "metadata": {},
   "source": [
    "# Exercise 10 - Insert a markdown cell to list Objectives"
   ]
  },
  {
   "cell_type": "markdown",
   "id": "a81e3148",
   "metadata": {},
   "source": [
    "# Objectives"
   ]
  },
  {
   "cell_type": "markdown",
   "id": "8435a4e5",
   "metadata": {},
   "source": [
    "◉ popular languages that Data Scientists\n",
    "◉ list data science libraries\n",
    "◉ table of Data Science tools\n",
    "◉ arithmetic expression examples\n",
    "◉ convert minutes to hours"
   ]
  },
  {
   "cell_type": "markdown",
   "id": "b29fcb74",
   "metadata": {},
   "source": [
    "# "
   ]
  },
  {
   "cell_type": "markdown",
   "id": "d8a641ff",
   "metadata": {},
   "source": [
    "# Exercise 11 - Create a markdown cell to indicate the Author's name"
   ]
  },
  {
   "cell_type": "markdown",
   "id": "367126a9",
   "metadata": {},
   "source": [
    "# Author "
   ]
  },
  {
   "cell_type": "markdown",
   "id": "66931417",
   "metadata": {},
   "source": [
    "Farhan Masood Khan"
   ]
  }
 ],
 "metadata": {
  "kernelspec": {
   "display_name": "Python 3 (ipykernel)",
   "language": "python",
   "name": "python3"
  },
  "language_info": {
   "codemirror_mode": {
    "name": "ipython",
    "version": 3
   },
   "file_extension": ".py",
   "mimetype": "text/x-python",
   "name": "python",
   "nbconvert_exporter": "python",
   "pygments_lexer": "ipython3",
   "version": "3.11.0"
  }
 },
 "nbformat": 4,
 "nbformat_minor": 5
}
