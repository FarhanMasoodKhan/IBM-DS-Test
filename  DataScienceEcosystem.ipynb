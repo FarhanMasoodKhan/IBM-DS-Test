{
 "cells": [
  {
   "cell_type": "markdown",
   "id": "849b7437",
   "metadata": {},
   "source": [
    "# Data Science Tools and Ecosystem"
   ]
  },
  {
   "cell_type": "markdown",
   "id": "60ded41d",
   "metadata": {},
   "source": [
    "In this notebook, Data Science Tools and Ecosystem are summarized."
   ]
  },
  {
   "cell_type": "markdown",
   "id": "8557742d",
   "metadata": {},
   "source": [
    "# "
   ]
  },
  {
   "cell_type": "markdown",
   "id": "f16214bf",
   "metadata": {},
   "source": [
    "Some of the popular languages that Data Scientists use are:"
   ]
  },
  {
   "cell_type": "markdown",
   "id": "2bc74f63",
   "metadata": {},
   "source": [
    "1. Python\n",
    "2. R \n",
    "3. SQL\n",
    "4. Javascript\n"
   ]
  },
  {
   "cell_type": "markdown",
   "id": "4b94a349",
   "metadata": {},
   "source": [
    "# "
   ]
  },
  {
   "cell_type": "markdown",
   "id": "8ede3754",
   "metadata": {},
   "source": [
    "# Exercise 5 - Create a markdown cell to list data science libraries"
   ]
  },
  {
   "cell_type": "code",
   "execution_count": null,
   "id": "d687d527",
   "metadata": {},
   "outputs": [],
   "source": [
    "Some of the commonly used libraries used by Data Scientists include:"
   ]
  },
  {
   "cell_type": "markdown",
   "id": "0824ee2e",
   "metadata": {},
   "source": [
    "1. TensorFlow\n",
    "2. NumPy\n",
    "3. SciPy \n",
    "4. Pandas\n",
    "5. Matplotlib \n",
    "6. Keras\n",
    "7. SciKit-Learn\n",
    "8. PyTorch"
   ]
  },
  {
   "cell_type": "markdown",
   "id": "861fc614",
   "metadata": {},
   "source": [
    "# "
   ]
  },
  {
   "cell_type": "markdown",
   "id": "eb3dea0b",
   "metadata": {},
   "source": [
    "# Exercise 6 - Create a markdown cell with a table of Data Science tools"
   ]
  },
  {
   "cell_type": "markdown",
   "id": "d3c72486",
   "metadata": {},
   "source": [
    "1. Python\n",
    "2. R\n",
    "3. SQL\n",
    "4. Tableau\n",
    "5. Power BI\n",
    "6. MATLAB\n",
    "7. SAS\n",
    "8. Apache Spark\n",
    "9. Hadoop\n",
    "10. IBM Watson\n",
    "11. Excel\n",
    "12. Jupyter Notebook"
   ]
  },
  {
   "cell_type": "markdown",
   "id": "8af52333",
   "metadata": {},
   "source": [
    "# "
   ]
  },
  {
   "cell_type": "markdown",
   "id": "7ddb430c",
   "metadata": {},
   "source": [
    "# Exercise 7 - Create a markdown cell introducing arithmetic expression examples"
   ]
  },
  {
   "cell_type": "markdown",
   "id": "68973ac3",
   "metadata": {},
   "source": [
    "Arithmetic Expressions are:\n",
    "\n",
    "Addition: 5 + 3 = 8          # + is used to add 5 and 3 together, resulting in 8.\n",
    "\n",
    "Subtraction: 10 - 4 = 6      # - is used to subtract 4 from 10, resulting in 6.\n",
    "\n",
    "Multiplication: 2 * 6 = 12   # * is used to multiply 2 and 6 together, resulting in 12.\n",
    "\n",
    "Division: 15 / 3 = 5         # / is used to divide 15 by 3, resulting in 5.\n",
    "\n",
    "Exponentiation: 2 ^ 3 = 8    # ^ is used to raise 2 to the power of 3, resulting in 8.\n",
    "\n",
    "Modulus: 15 % 4 = 3          # % is used to find the remainder when 15 is divided by 4, resulting in 3.\n",
    "    "
   ]
  },
  {
   "cell_type": "markdown",
   "id": "6b8735c1",
   "metadata": {},
   "source": [
    "# "
   ]
  },
  {
   "cell_type": "markdown",
   "id": "e1fa7c47",
   "metadata": {},
   "source": [
    "# Exercise 8 - Create a code cell to multiply and add numbers"
   ]
  },
  {
   "cell_type": "markdown",
   "id": "39586fad",
   "metadata": {},
   "source": [
    "Multiply and add numbers\n",
    "\n",
    "a = 2\n",
    "b = 3\n",
    "c = 5\n",
    "\n",
    "result = a + b * c\n",
    "\n",
    "print(\"The result is\", result)  # 17 is answer\n"
   ]
  },
  {
   "cell_type": "markdown",
   "id": "54cfc366",
   "metadata": {},
   "source": [
    "# "
   ]
  },
  {
   "cell_type": "markdown",
   "id": "610fc0d3",
   "metadata": {},
   "source": [
    "# Exercise 9 - Create a code cell to convert minutes to hours"
   ]
  },
  {
   "cell_type": "code",
   "execution_count": 2,
   "id": "36333e9d",
   "metadata": {},
   "outputs": [
    {
     "name": "stdout",
     "output_type": "stream",
     "text": [
      "There are 2.0 hours in 120 minutes.\n"
     ]
    }
   ],
   "source": [
    "minutes = 120\n",
    "\n",
    "# Convert minutes to hours\n",
    "hours = minutes / 60\n",
    "\n",
    "# Output the result\n",
    "print(\"There are\", hours, \"hours in\", minutes, \"minutes.\")"
   ]
  },
  {
   "cell_type": "markdown",
   "id": "7007baeb",
   "metadata": {},
   "source": [
    "# "
   ]
  },
  {
   "cell_type": "markdown",
   "id": "cf666c81",
   "metadata": {},
   "source": [
    "# Exercise 10 - Insert a markdown cell to list Objectives"
   ]
  },
  {
   "cell_type": "markdown",
   "id": "89d5ca6d",
   "metadata": {},
   "source": [
    "# Objectives"
   ]
  },
  {
   "cell_type": "markdown",
   "id": "5ceb3689",
   "metadata": {},
   "source": [
    "◉ popular languages that Data Scientists\n",
    "◉ list data science libraries\n",
    "◉ table of Data Science tools\n",
    "◉ arithmetic expression examples\n",
    "◉ convert minutes to hours"
   ]
  },
  {
   "cell_type": "markdown",
   "id": "8ec5a138",
   "metadata": {},
   "source": [
    "# "
   ]
  },
  {
   "cell_type": "markdown",
   "id": "82db13ad",
   "metadata": {},
   "source": [
    "# Exercise 11 - Create a markdown cell to indicate the Author's name"
   ]
  },
  {
   "cell_type": "markdown",
   "id": "41f39f8a",
   "metadata": {},
   "source": [
    "# Author "
   ]
  },
  {
   "cell_type": "markdown",
   "id": "c706d570",
   "metadata": {},
   "source": [
    "Farhan Masood Khan"
   ]
  }
 ],
 "metadata": {
  "kernelspec": {
   "display_name": "Python 3 (ipykernel)",
   "language": "python",
   "name": "python3"
  },
  "language_info": {
   "codemirror_mode": {
    "name": "ipython",
    "version": 3
   },
   "file_extension": ".py",
   "mimetype": "text/x-python",
   "name": "python",
   "nbconvert_exporter": "python",
   "pygments_lexer": "ipython3",
   "version": "3.11.0"
  }
 },
 "nbformat": 4,
 "nbformat_minor": 5
}
