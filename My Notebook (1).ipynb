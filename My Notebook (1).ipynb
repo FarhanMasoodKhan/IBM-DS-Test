{
 "cells": [
  {
   "cell_type": "markdown",
   "id": "1ba74131",
   "metadata": {},
   "source": [
    "# Title - My Notebook"
   ]
  },
  {
   "cell_type": "markdown",
   "id": "8d3a143d",
   "metadata": {},
   "source": [
    "introduction"
   ]
  },
  {
   "cell_type": "markdown",
   "id": "1f32b2e4",
   "metadata": {},
   "source": [
    "# "
   ]
  },
  {
   "cell_type": "markdown",
   "id": "8483e5a4",
   "metadata": {},
   "source": [
    "These are the languages in Data science\n",
    "\n",
    "1- Python\n",
    "2- R"
   ]
  },
  {
   "cell_type": "markdown",
   "id": "7f6729f5",
   "metadata": {},
   "source": [
    "# "
   ]
  },
  {
   "cell_type": "markdown",
   "id": "fc0995f1",
   "metadata": {},
   "source": [
    "These are the Libraries in Data science\n",
    "\n",
    "1- Numpy\n",
    "2- Pandas\n",
    "3- Matplotlib\n",
    "4- Scikit learn\n",
    "5- Pytorch\n",
    "6- TensorFlow"
   ]
  },
  {
   "cell_type": "markdown",
   "id": "31a9346a",
   "metadata": {},
   "source": [
    "These are the Tools in Data science\n",
    "\n",
    "1- Apache Spark\n",
    "2- hadoop\n",
    "3- Jupyter\n",
    "4- Matlab\n",
    "5- Tableau\n",
    "6- ggplot2\n",
    "7- R Studio\n"
   ]
  },
  {
   "cell_type": "markdown",
   "id": "0b31988f",
   "metadata": {},
   "source": [
    "These are  arithmetic expression examples \n",
    "\n",
    "5 --  a number is an arithmetic expression\n",
    "(3 + 4) -- the  sum of numbers is an arithmetic expression\n",
    "(7 - 3) --  the difference  of two  numbers is an arithmetic expression\n",
    "(2 5),    25 -- a product of two numbers is an arithmetic expression."
   ]
  },
  {
   "cell_type": "code",
   "execution_count": 1,
   "id": "b580e946",
   "metadata": {
    "scrolled": true
   },
   "outputs": [
    {
     "name": "stdout",
     "output_type": "stream",
     "text": [
      "45\n"
     ]
    }
   ],
   "source": [
    "#Multiply a number\n",
    "\n",
    "multi = 9 * 5 \n",
    "print(multi)"
   ]
  },
  {
   "cell_type": "code",
   "execution_count": null,
   "id": "78e11b84",
   "metadata": {},
   "outputs": [],
   "source": [
    "#ADD a number\n",
    "\n",
    "add = 9 + 5 \n",
    "print(add)"
   ]
  },
  {
   "cell_type": "code",
   "execution_count": 2,
   "id": "bfc70252",
   "metadata": {},
   "outputs": [
    {
     "name": "stdout",
     "output_type": "stream",
     "text": [
      "3:25:45\n"
     ]
    }
   ],
   "source": [
    "# Python Program to Convert minutes into hours\n",
    "def convert(seconds):\n",
    "    seconds = seconds % (24 * 3600)\n",
    "    hour = seconds // 3600\n",
    "    seconds %= 3600\n",
    "    minutes = seconds // 60\n",
    "    seconds %= 60\n",
    "     \n",
    "    return \"%d:%02d:%02d\" % (hour, minutes, seconds)\n",
    "     \n",
    "# Driver program\n",
    "n = 12345\n",
    "print(convert(n))"
   ]
  },
  {
   "cell_type": "markdown",
   "id": "b8b591c7",
   "metadata": {},
   "source": [
    "Unordered list\n",
    "\n",
    "object\n",
    "python\n",
    "Rstudio"
   ]
  },
  {
   "cell_type": "code",
   "execution_count": null,
   "id": "fecf4803",
   "metadata": {},
   "outputs": [],
   "source": [
    "Author Name : Farhan Masood khan"
   ]
  },
  {
   "cell_type": "code",
   "execution_count": null,
   "id": "639a28cf",
   "metadata": {},
   "outputs": [],
   "source": []
  },
  {
   "cell_type": "code",
   "execution_count": null,
   "id": "d5634088",
   "metadata": {},
   "outputs": [],
   "source": []
  },
  {
   "cell_type": "code",
   "execution_count": null,
   "id": "15891a70",
   "metadata": {},
   "outputs": [],
   "source": []
  },
  {
   "cell_type": "code",
   "execution_count": null,
   "id": "dc1dc7df",
   "metadata": {},
   "outputs": [],
   "source": []
  },
  {
   "cell_type": "code",
   "execution_count": null,
   "id": "d76d03d6",
   "metadata": {},
   "outputs": [],
   "source": []
  },
  {
   "cell_type": "code",
   "execution_count": null,
   "id": "cb9dba1d",
   "metadata": {},
   "outputs": [],
   "source": []
  },
  {
   "cell_type": "code",
   "execution_count": null,
   "id": "773de113",
   "metadata": {},
   "outputs": [],
   "source": []
  },
  {
   "cell_type": "code",
   "execution_count": null,
   "id": "c3630a62",
   "metadata": {},
   "outputs": [],
   "source": []
  },
  {
   "cell_type": "code",
   "execution_count": null,
   "id": "513deffd",
   "metadata": {},
   "outputs": [],
   "source": []
  },
  {
   "cell_type": "code",
   "execution_count": null,
   "id": "f34f175a",
   "metadata": {},
   "outputs": [],
   "source": []
  }
 ],
 "metadata": {
  "kernelspec": {
   "display_name": "Python 3 (ipykernel)",
   "language": "python",
   "name": "python3"
  },
  "language_info": {
   "codemirror_mode": {
    "name": "ipython",
    "version": 3
   },
   "file_extension": ".py",
   "mimetype": "text/x-python",
   "name": "python",
   "nbconvert_exporter": "python",
   "pygments_lexer": "ipython3",
   "version": "3.11.0"
  }
 },
 "nbformat": 4,
 "nbformat_minor": 5
}
